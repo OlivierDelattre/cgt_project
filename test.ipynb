{
 "cells": [
  {
   "cell_type": "code",
   "execution_count": 1,
   "metadata": {},
   "outputs": [],
   "source": [
    "import egttools as egt\n",
    "import numpy as np\n",
    "import math\n",
    "import matplotlib.pyplot as plt\n",
    "import scipy as sp\n",
    "\n",
    "import run\n",
    "from run import CRDWithExecutor, Cooperator, Defector, Executor\n",
    "\n",
    "Z = 100         # Population size\n",
    "N  = 4           # Group size\n",
    "b  = 1.           # Endowment (individual's money/funds/...)\n",
    "c  = 0.1         # Amount of money individuals contribute\n",
    "Mc = 0.3         # Minimum collective contribution\n",
    "M  = 3.           # OR Minimum number of cooperators\n",
    "r  = 0.2         # If minimum is not met: All group participants lose their endowment with probability r, else: individuals retain their endowments\n",
    "pi_t = 0.03\n",
    "pi_e = 0.3\n",
    "n_e = 0.25\n",
    "alpha = 1.\n",
    "mu    = 1/Z\n",
    "beta = 5.\n",
    "\n",
    "game = CRDWithExecutor(\n",
    "    strategies=[Defector(c, b), Executor(c, b, pi_t, pi_e, alpha), Cooperator(c, b)],\n",
    "    initial_endowment=b,\n",
    "    population_size=Z,\n",
    "    group_size=N,\n",
    "    cost=c,\n",
    "    risk=r,\n",
    "    alpha=alpha,\n",
    "    cooperation_threshold=M,\n",
    "    enhancement_factor=1,\n",
    "    pi_t=pi_t,\n",
    "    pi_e=pi_e,\n",
    "    n_e=n_e,\n",
    "    mu=mu)"
   ]
  },
  {
   "cell_type": "code",
   "execution_count": 84,
   "metadata": {},
   "outputs": [
    {
     "name": "stdout",
     "output_type": "stream",
     "text": [
      "[2 1 1]\n"
     ]
    }
   ],
   "source": [
    "# Make population and group\n",
    "current_population = np.array([33, 34, 33], dtype=int)\n",
    "pop_id = egt.calculate_state(100, current_population)\n",
    "\n",
    "dist = sp.stats.multivariate_hypergeom(current_population, game.N)\n",
    "group = dist.rvs()[0]\n",
    "group_id = egt.calculate_state(game.N, group,)\n",
    "\n",
    "print(group)"
   ]
  },
  {
   "cell_type": "code",
   "execution_count": 85,
   "metadata": {},
   "outputs": [
    {
     "data": {
      "text/plain": [
       "-0.20397834860279696"
      ]
     },
     "execution_count": 85,
     "metadata": {},
     "output_type": "execute_result"
    }
   ],
   "source": [
    "# Test fitness difference\n",
    "game.set_population_state(pop_id)\n",
    "payoffs = game.calculate_payoffs()\n",
    "evolver = egt.analytical.StochDynamics(\n",
    "        3, \n",
    "        np.array(payoffs), \n",
    "        pop_size=game.Z, \n",
    "        group_size=game.N, \n",
    "        mu=game.mu)\n",
    "\n",
    "evolver.full_fitness_difference_group(0, 2, population_state=current_population)"
   ]
  },
  {
   "cell_type": "code",
   "execution_count": 168,
   "metadata": {},
   "outputs": [
    {
     "name": "stdout",
     "output_type": "stream",
     "text": [
      "[1 1 0]\n",
      "[1, 0]\n"
     ]
    }
   ],
   "source": [
    "# Generating a random pair of 2 strategies from population\n",
    "sample = sp.stats.multivariate_hypergeom.rvs(m=current_population, n=2)\n",
    "print(sample)\n",
    "idvs = [0 for _ in range(sample[0])]+[1 for _ in range(sample[1])]+[2 for _ in range(sample[2])]\n",
    "np.random.shuffle(idvs)\n",
    "print(idvs)"
   ]
  },
  {
   "cell_type": "code",
   "execution_count": 176,
   "metadata": {},
   "outputs": [
    {
     "name": "stdout",
     "output_type": "stream",
     "text": [
      "Alpha = 0: 0.15532937031440683\n",
      "Alpha = 1: 0.04455053032476516\n"
     ]
    }
   ],
   "source": [
    "# Calculating group achievement from stationary distribution estimate\n",
    "import pickle\n",
    "with open(\"alpha=0.pickle\", 'rb') as f:\n",
    "        sd = pickle.load(f)\n",
    "\n",
    "group_achievement = sum([\n",
    "        sd[i]*game.aG(i) for i in range(len(sd))\n",
    "    ])\n",
    "print(\"Alpha = 0:\",group_achievement)\n",
    "\n",
    "with open(\"alpha=1.pickle\", 'rb') as f:\n",
    "        sd = pickle.load(f)\n",
    "\n",
    "group_achievement = sum([\n",
    "        sd[i]*game.aG(i) for i in range(len(sd))\n",
    "    ])\n",
    "print(\"Alpha = 1:\",group_achievement)"
   ]
  },
  {
   "cell_type": "code",
   "execution_count": null,
   "metadata": {},
   "outputs": [],
   "source": []
  }
 ],
 "metadata": {
  "kernelspec": {
   "display_name": "SFoML",
   "language": "python",
   "name": "python3"
  },
  "language_info": {
   "codemirror_mode": {
    "name": "ipython",
    "version": 3
   },
   "file_extension": ".py",
   "mimetype": "text/x-python",
   "name": "python",
   "nbconvert_exporter": "python",
   "pygments_lexer": "ipython3",
   "version": "3.8.12"
  },
  "orig_nbformat": 4,
  "vscode": {
   "interpreter": {
    "hash": "ed1bbf26b3f9ec86a529ae044fdaf32e07dc9456a93a26a236e81e87669bdcd8"
   }
  }
 },
 "nbformat": 4,
 "nbformat_minor": 2
}
