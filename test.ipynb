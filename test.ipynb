{
 "cells": [
  {
   "cell_type": "code",
   "execution_count": 2,
   "metadata": {},
   "outputs": [
    {
     "name": "stdout",
     "output_type": "stream",
     "text": [
      "[[0.8  0.8  0.8  0.8  0.8  0.8  1.   1.   1.   1.   1.   1.   1.   1.\n",
      "  1.  ]\n",
      " [0.97 0.97 0.97 0.97 0.97 0.97 1.17 1.17 1.17 1.17 1.17 1.17 1.17 1.17\n",
      "  1.17]\n",
      " [1.   1.   1.   1.   1.   1.   1.2  1.2  1.2  1.2  1.2  1.2  1.2  1.2\n",
      "  1.2 ]]\n"
     ]
    },
    {
     "name": "stderr",
     "output_type": "stream",
     "text": [
      "c:\\Users\\Admin\\anaconda3\\envs\\SFoML\\lib\\site-packages\\scipy\\stats\\_multivariate.py:4458: RuntimeWarning: invalid value encountered in subtract\n",
      "  num[~mxcond] = (betaln(m+1, 1) - betaln(x+1, m-x+1))\n"
     ]
    },
    {
     "name": "stdout",
     "output_type": "stream",
     "text": [
      "[10  0  0] -> [10  0  0]:   (0, 0)\t0.9\n",
      "  (0, 1)\t0.03194895717734247\n",
      "  (0, 2)\t0.029204727923299596\n"
     ]
    },
    {
     "ename": "IndexError",
     "evalue": "row index (1) out of range",
     "output_type": "error",
     "traceback": [
      "\u001b[1;31m---------------------------------------------------------------------------\u001b[0m",
      "\u001b[1;31mIndexError\u001b[0m                                Traceback (most recent call last)",
      "\u001b[1;32mc:\\Users\\Admin\\OneDrive - Vrije Universiteit Brussel\\MA2\\cgt\\project\\test.ipynb Cell 1\u001b[0m in \u001b[0;36m<module>\u001b[1;34m\u001b[0m\n\u001b[0;32m     <a href='vscode-notebook-cell:/c%3A/Users/Admin/OneDrive%20-%20Vrije%20Universiteit%20Brussel/MA2/cgt/project/test.ipynb#W0sZmlsZQ%3D%3D?line=52'>53</a>\u001b[0m \u001b[39mfor\u001b[39;00m i \u001b[39min\u001b[39;00m \u001b[39mrange\u001b[39m(num_pop_states):\n\u001b[0;32m     <a href='vscode-notebook-cell:/c%3A/Users/Admin/OneDrive%20-%20Vrije%20Universiteit%20Brussel/MA2/cgt/project/test.ipynb#W0sZmlsZQ%3D%3D?line=53'>54</a>\u001b[0m     \u001b[39mfor\u001b[39;00m j \u001b[39min\u001b[39;00m \u001b[39mrange\u001b[39m(num_pop_states):\n\u001b[1;32m---> <a href='vscode-notebook-cell:/c%3A/Users/Admin/OneDrive%20-%20Vrije%20Universiteit%20Brussel/MA2/cgt/project/test.ipynb#W0sZmlsZQ%3D%3D?line=54'>55</a>\u001b[0m         \u001b[39mprint\u001b[39m(\u001b[39mf\u001b[39m\u001b[39m\"\u001b[39m\u001b[39m{\u001b[39;00megt\u001b[39m.\u001b[39msample_simplex(i, Z, \u001b[39m3\u001b[39m)\u001b[39m}\u001b[39;00m\u001b[39m -> \u001b[39m\u001b[39m{\u001b[39;00megt\u001b[39m.\u001b[39msample_simplex(j, Z, \u001b[39m3\u001b[39m)\u001b[39m}\u001b[39;00m\u001b[39m: \u001b[39m\u001b[39m{\u001b[39;00mtransition_matrix[i][j]\u001b[39m}\u001b[39;00m\u001b[39m\"\u001b[39m)\n\u001b[0;32m     <a href='vscode-notebook-cell:/c%3A/Users/Admin/OneDrive%20-%20Vrije%20Universiteit%20Brussel/MA2/cgt/project/test.ipynb#W0sZmlsZQ%3D%3D?line=56'>57</a>\u001b[0m \u001b[39m#group_achievement = sum([\u001b[39;00m\n\u001b[0;32m     <a href='vscode-notebook-cell:/c%3A/Users/Admin/OneDrive%20-%20Vrije%20Universiteit%20Brussel/MA2/cgt/project/test.ipynb#W0sZmlsZQ%3D%3D?line=57'>58</a>\u001b[0m \u001b[39m#    stationary_distribution[0]*game.aG(i) for i in range(len(stationary_distribution))\u001b[39;00m\n\u001b[0;32m     <a href='vscode-notebook-cell:/c%3A/Users/Admin/OneDrive%20-%20Vrije%20Universiteit%20Brussel/MA2/cgt/project/test.ipynb#W0sZmlsZQ%3D%3D?line=58'>59</a>\u001b[0m \u001b[39m#])\u001b[39;00m\n\u001b[0;32m     <a href='vscode-notebook-cell:/c%3A/Users/Admin/OneDrive%20-%20Vrije%20Universiteit%20Brussel/MA2/cgt/project/test.ipynb#W0sZmlsZQ%3D%3D?line=59'>60</a>\u001b[0m \n\u001b[0;32m     <a href='vscode-notebook-cell:/c%3A/Users/Admin/OneDrive%20-%20Vrije%20Universiteit%20Brussel/MA2/cgt/project/test.ipynb#W0sZmlsZQ%3D%3D?line=60'>61</a>\u001b[0m \u001b[39m#print(group_achievement)\u001b[39;00m\n\u001b[0;32m     <a href='vscode-notebook-cell:/c%3A/Users/Admin/OneDrive%20-%20Vrije%20Universiteit%20Brussel/MA2/cgt/project/test.ipynb#W0sZmlsZQ%3D%3D?line=62'>63</a>\u001b[0m strategy_labels \u001b[39m=\u001b[39m [\u001b[39m\"\u001b[39m\u001b[39mDefector\u001b[39m\u001b[39m\"\u001b[39m, \u001b[39m\"\u001b[39m\u001b[39mExecutor\u001b[39m\u001b[39m\"\u001b[39m, \u001b[39m\"\u001b[39m\u001b[39mCooperator\u001b[39m\u001b[39m\"\u001b[39m]\n",
      "File \u001b[1;32mc:\\Users\\Admin\\anaconda3\\envs\\SFoML\\lib\\site-packages\\scipy\\sparse\\_index.py:47\u001b[0m, in \u001b[0;36mIndexMixin.__getitem__\u001b[1;34m(self, key)\u001b[0m\n\u001b[0;32m     46\u001b[0m \u001b[39mdef\u001b[39;00m \u001b[39m__getitem__\u001b[39m(\u001b[39mself\u001b[39m, key):\n\u001b[1;32m---> 47\u001b[0m     row, col \u001b[39m=\u001b[39m \u001b[39mself\u001b[39;49m\u001b[39m.\u001b[39;49m_validate_indices(key)\n\u001b[0;32m     49\u001b[0m     \u001b[39m# Dispatch to specialized methods.\u001b[39;00m\n\u001b[0;32m     50\u001b[0m     \u001b[39mif\u001b[39;00m \u001b[39misinstance\u001b[39m(row, INT_TYPES):\n",
      "File \u001b[1;32mc:\\Users\\Admin\\anaconda3\\envs\\SFoML\\lib\\site-packages\\scipy\\sparse\\_index.py:155\u001b[0m, in \u001b[0;36mIndexMixin._validate_indices\u001b[1;34m(self, key)\u001b[0m\n\u001b[0;32m    153\u001b[0m row \u001b[39m=\u001b[39m \u001b[39mint\u001b[39m(row)\n\u001b[0;32m    154\u001b[0m \u001b[39mif\u001b[39;00m row \u001b[39m<\u001b[39m \u001b[39m-\u001b[39mM \u001b[39mor\u001b[39;00m row \u001b[39m>\u001b[39m\u001b[39m=\u001b[39m M:\n\u001b[1;32m--> 155\u001b[0m     \u001b[39mraise\u001b[39;00m \u001b[39mIndexError\u001b[39;00m(\u001b[39m'\u001b[39m\u001b[39mrow index (\u001b[39m\u001b[39m%d\u001b[39;00m\u001b[39m) out of range\u001b[39m\u001b[39m'\u001b[39m \u001b[39m%\u001b[39m row)\n\u001b[0;32m    156\u001b[0m \u001b[39mif\u001b[39;00m row \u001b[39m<\u001b[39m \u001b[39m0\u001b[39m:\n\u001b[0;32m    157\u001b[0m     row \u001b[39m+\u001b[39m\u001b[39m=\u001b[39m M\n",
      "\u001b[1;31mIndexError\u001b[0m: row index (1) out of range"
     ]
    }
   ],
   "source": [
    "import egttools as egt\n",
    "import numpy as np\n",
    "import math\n",
    "import matplotlib.pyplot as plt\n",
    "\n",
    "from run import CRDWithExecutor, Cooperator, Defector, Executor\n",
    "\n",
    "Z  = 10         # Population size\n",
    "N  = 4           # Group size\n",
    "b  = 1           # Endowment (individual's money/funds/...)\n",
    "c  = 0.1         # Amount of money individuals contribute\n",
    "Mc = 0.5         # Minimum collective contribution\n",
    "M  = 3           # OR Minimum number of cooperators\n",
    "r  = 0.2         # If minimum is not met: All group participants lose their endowment with probability r, else: individuals retain their endowments\n",
    "pi_t = 0.03\n",
    "pi_e = 0.3\n",
    "n_e = 0.25\n",
    "alpha = 1\n",
    "mu    = 1/Z\n",
    "\n",
    "game = CRDWithExecutor(\n",
    "    strategies=[Defector(c, b), Executor(c, b, pi_t, pi_e, alpha), Cooperator(c, b)],\n",
    "    initial_endowment=b,\n",
    "    population_size=Z,\n",
    "    group_size=N,\n",
    "    cost=c,\n",
    "    risk=r,\n",
    "    alpha=alpha,\n",
    "    cooperation_threshold=M,\n",
    "    enhancement_factor=1,\n",
    "    pi_t=pi_t,\n",
    "    pi_e=pi_e,\n",
    "    n_e=n_e,\n",
    "    mu=mu)\n",
    "\n",
    "beta = 5\n",
    "\n",
    "payoffs = game.calculate_payoffs()\n",
    "\n",
    "evolver = egt.analytical.StochDynamics(\n",
    "    3, \n",
    "    np.array(payoffs), \n",
    "    pop_size=game.Z, \n",
    "    group_size=game.N, \n",
    "    mu=game.mu)\n",
    "\n",
    "print(payoffs)\n",
    "transition_matrix = evolver.calculate_full_transition_matrix(beta=beta)\n",
    "#stationary_distribution = evolver.calculate_stationary_distribution(beta=beta)\n",
    "\n",
    "num_pop_states = egt.calculate_nb_states(Z, 3)\n",
    "\n",
    "for i in range(num_pop_states):\n",
    "    for j in range(num_pop_states):\n",
    "        print(f\"{egt.sample_simplex(i, Z, 3)} -> {egt.sample_simplex(j, Z, 3)}: {transition_matrix[i][j]}\")\n",
    "\n",
    "#group_achievement = sum([\n",
    "#    stationary_distribution[0]*game.aG(i) for i in range(len(stationary_distribution))\n",
    "#])\n",
    "\n",
    "#print(group_achievement)\n",
    "\n",
    "strategy_labels = [\"Defector\", \"Executor\", \"Cooperator\"]\n",
    "\n",
    "#fig, ax = plt.subplots(figsize=(5, 5), dpi=150)\n",
    "#G = egt.plotting.draw_stationary_distribution(strategy_labels,\n",
    "#                                            1/Z, fixation_probabilities, stationary_distribution,\n",
    "#                                            node_size=600, \n",
    "#                                            font_size_node_labels=8,\n",
    "#                                            font_size_edge_labels=8,\n",
    "#                                            font_size_sd_labels=8,\n",
    "#                                            edge_width=1,\n",
    "#                                            min_strategy_frequency=-0.01, \n",
    "#                                            ax=ax)\n",
    "#plt.axis('off')\n",
    "#plt.show() # display"
   ]
  },
  {
   "cell_type": "code",
   "execution_count": null,
   "metadata": {},
   "outputs": [],
   "source": []
  }
 ],
 "metadata": {
  "kernelspec": {
   "display_name": "SFoML",
   "language": "python",
   "name": "python3"
  },
  "language_info": {
   "codemirror_mode": {
    "name": "ipython",
    "version": 3
   },
   "file_extension": ".py",
   "mimetype": "text/x-python",
   "name": "python",
   "nbconvert_exporter": "python",
   "pygments_lexer": "ipython3",
   "version": "3.8.12"
  },
  "orig_nbformat": 4,
  "vscode": {
   "interpreter": {
    "hash": "ed1bbf26b3f9ec86a529ae044fdaf32e07dc9456a93a26a236e81e87669bdcd8"
   }
  }
 },
 "nbformat": 4,
 "nbformat_minor": 2
}
